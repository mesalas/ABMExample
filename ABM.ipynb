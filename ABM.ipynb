{
 "cells": [
  {
   "cell_type": "code",
   "execution_count": 1,
   "metadata": {
    "collapsed": false,
    "deletable": true,
    "editable": true
   },
   "outputs": [],
   "source": [
    "# Load packages\n",
    "\n",
    "import numpy as np\n",
    "import matplotlib.pylab as pl\n",
    "import copy\n",
    "%matplotlib inline\n",
    "import matplotlib\n",
    "matplotlib.rcParams['savefig.dpi'] = 600.\n",
    "\n",
    "\n",
    "\n",
    "np.random.seed = 1234 #random seed for reproducibility  \n"
   ]
  },
  {
   "cell_type": "markdown",
   "metadata": {
    "collapsed": true,
    "deletable": true,
    "editable": true
   },
   "source": [
    "# Asimple Agent Based Model Example\n",
    "by Nicholas Skar-Gislinge\n",
    "\n",
    "## Introduction\n",
    "\n",
    "This is a simple demonstration and code example of agent based modelling. It is inspired by the famous Schelling’s model of segregation. An online version may be found here https://notebooks.azure.com/mesalas/libraries/ABMNicholas (note that the plots may differ in the online version)\n",
    "\n",
    "## Model Functions\n",
    "The model consists of a map and a number of agents. The map is represented by a grid and on each point on the grid lives one of the agents. The agents can either be of type A or B.\n",
    "The map is generated and the agents are placed on it using the InitMap function.\n"
   ]
  },
  {
   "cell_type": "code",
   "execution_count": 2,
   "metadata": {
    "collapsed": false,
    "deletable": true,
    "editable": true
   },
   "outputs": [],
   "source": [
    "def InitMap(Number = 50, Shape = (10,10), Shuffel = True):\n",
    "    '''Fuction for generating the map and placing the agents.\n",
    "    \n",
    "       Number : the number of agents of type B\n",
    "    \n",
    "       Shape  : the shape of the map. default is 10x10.\n",
    "                the total number of agents is given by \n",
    "                multiplyingthe dimensions of the map.\n",
    "       Shuffe : Distributes the B type agents randomly on the map  \n",
    "    '''\n",
    "    Agents = Shape[0]*Shape[1] #Calculate number of agents\n",
    "    Map = np.zeros(Agents, dtype = int) # make map of A type agents\n",
    "\n",
    "    for i in range(Number): #Loop for placing the b type agents\n",
    "        Map[i] = 1 # add agent of B type\n",
    "\n",
    "    if Shuffel == True: # Do we shuffle the map?\n",
    "        np.random.shuffle(Map) # Shuffle map\n",
    "    Map = np.reshape(Map,Shape) # Shape map into the given sghape\n",
    "    return Map\n",
    "                 "
   ]
  },
  {
   "cell_type": "markdown",
   "metadata": {},
   "source": [
    "Below we generate a map and place the agents. The figure shows the generated map with the agents of type B in yellow."
   ]
  },
  {
   "cell_type": "code",
   "execution_count": 3,
   "metadata": {
    "collapsed": false,
    "deletable": true,
    "editable": true
   },
   "outputs": [
    {
     "data": {
      "image/png": "[encoded data removed]",
      "text/plain": [
       "<matplotlib.figure.Figure at 0x10d65e9d0>"
      ]
     },
     "metadata": {},
     "output_type": "display_data"
    }
   ],
   "source": [
    "Map = InitMap(Number=10, Shape=(10,10)) #Make map\n",
    "\n",
    "# Code for plotting\n",
    "fig,ax = pl.subplots()\n",
    "pl.imshow(Map);\n"
   ]
  },
  {
   "cell_type": "markdown",
   "metadata": {},
   "source": [
    "The agents prefer their neighbours to be of the same kind as themselves. To check if this is the case we create the two functions, `Neighbours` and Happy, shown below `Neighbours` find the eight nearest neighbours to a given point on the map, and Happy uses `Neighbours` to check if the agent at the given point is surrounded 6 (This value is chosen somewhat arbitrarily and will be considered further down) or more agents of the same type. If it is the agent is considered happy."
   ]
  },
  {
   "cell_type": "code",
   "execution_count": 4,
   "metadata": {
    "collapsed": false,
    "deletable": true,
    "editable": true
   },
   "outputs": [],
   "source": [
    "def Neighbours(pos,Map):\n",
    "    \"\"\"Fuction finding the nearest neighbours to a point on a grid.\n",
    "       Note that the grid is considered periodic.\n",
    "    \n",
    "       pos : position\n",
    "       Map : gird\n",
    "    \"\"\"\n",
    "    Shape = Map.shape #Size of the map\n",
    "    j = pos[1] #first index of the position \n",
    "    i = pos[0] #second index of the position\n",
    "    \n",
    "    #First indexes of the eight nearst neighbours\n",
    "    NeighbourJ = [j - 1, j    , j +1 ,\n",
    "                  j - 1 ,       j +1,\n",
    "                  j - 1, j    , j +1\n",
    "                 ]\n",
    "    \n",
    "    #Second indexes of the eight nearst neighbours\n",
    "    NeighbourI = [i - 1, i - 1, i - 1,\n",
    "                  i,             i,\n",
    "                  i + 1, i + 1, i + 1\n",
    "                 ]\n",
    "    # We need to take into account that the edges are considered neighbours \n",
    "    for i,j in enumerate(NeighbourJ): # loop through the neighbours second indexes\n",
    "        if j > Shape[1] -1: # if the second index is over the right edge \n",
    "            NeighbourJ[i] = 0 # change the second index to left edge\n",
    "        if j < 0: # if the second index is over the left edge\n",
    "            NeighbourJ[i] = Shape[1] - 1 # change the second index to right edge\n",
    "    for i,j in enumerate(NeighbourI): # loop through the neighbours first indexes\n",
    "        if j > Shape[0] -1: # if the first index is over the botom edge\n",
    "            NeighbourI[i] = 0 # change the first index to the top edge\n",
    "        if j < 0: # if the first index is over the top edge\n",
    "            NeighbourI[i] = Shape[0]-1 # change the first index to the botom edge\n",
    "    return np.array(zip(NeighbourI,NeighbourJ)) # return the neighbours\n",
    "\n",
    "def Happy(pos, Map, Type, NoLikeForHappy = 6):\n",
    "    '''Function assessing the state of an agent at pos on the map.\n",
    "    if the agent is surrounded by more than NoLikeForHappy agents it is considered happy'''\n",
    "    \n",
    "    IsHappy = False # We start out assuming that the agent is unhappy\n",
    "    Type = Map[pos[0],pos[1]] # get the type of the agent\n",
    "    NN = Neighbours(pos,Map) # Find the heighbours\n",
    "    \n",
    "    score = 0 # counter for scoring\n",
    "    for i,j in NN: # loop over the neighbours \n",
    "        if Map[i,j] == Type: # check if the neighbour is of the same type\n",
    "            score = score + 1 # add to score\n",
    "    if score >= NoLikeForHappy: # check of the total score is more or equal to NoLikeForHappy\n",
    "        IsHappy = True # set Happy state to true\n",
    "\n",
    "    return (IsHappy,score) # return the state and score \n"
   ]
  },
  {
   "cell_type": "markdown",
   "metadata": {},
   "source": [
    "In the plot below, the `Happy` and `Neighbours` functions are used to find the nearest neighbours and assess the Happiness of three agents on the Map. The agent is indicated by a triangle (pointing upwards if happy and downwards if unhappy). The points indicate the neighbours."
   ]
  },
  {
   "cell_type": "code",
   "execution_count": 5,
   "metadata": {
    "collapsed": false,
    "deletable": true,
    "editable": true
   },
   "outputs": [
    {
     "data": {
      "text/plain": [
       "[<matplotlib.lines.Line2D at 0x10db0fcd0>]"
      ]
     },
     "execution_count": 5,
     "metadata": {},
     "output_type": "execute_result"
    },
    {
     "data": {
      "image/png": "[encoded data removed]",
      "text/plain": [
       "<matplotlib.figure.Figure at 0x10da29850>"
      ]
     },
     "metadata": {},
     "output_type": "display_data"
    }
   ],
   "source": [
    "# Code for plotting\n",
    "fig,ax = pl.subplots()\n",
    "pl.imshow(Map)\n",
    "pos = (3,3)\n",
    "NN = Neighbours(pos,Map)\n",
    "ax.plot(NN[:,1],NN[:,0],'o')\n",
    "(IsHappy,score) = Happy(pos, Map, Map[pos[0],pos[1]])\n",
    "if IsHappy == True:\n",
    "    Marker = '^'\n",
    "if IsHappy == False:\n",
    "    Marker = 'v'\n",
    "ax.plot(pos[1],pos[0], Marker)\n",
    "\n",
    "pos = (5,9)\n",
    "NN = Neighbours(pos,Map)\n",
    "pl.plot(NN[:,1],NN[:,0],'o')\n",
    "(IsHappy,score) = Happy(pos, Map, Map[pos[0],pos[1]])\n",
    "if IsHappy == True:\n",
    "    Marker = '^'\n",
    "if IsHappy == False:\n",
    "    Marker = 'v'\n",
    "ax.plot(pos[1],pos[0], Marker)\n",
    "\n",
    "pos = (9,9)\n",
    "NN = Neighbours(pos,Map)\n",
    "pl.plot(NN[:,1],NN[:,0],'o')\n",
    "(IsHappy,score) = Happy(pos, Map, Map[pos[0],pos[1]])\n",
    "if IsHappy == True:\n",
    "    Marker = '^'\n",
    "if IsHappy == False:\n",
    "    Marker = 'v'\n",
    "ax.plot(pos[1],pos[0], Marker)"
   ]
  },
  {
   "cell_type": "markdown",
   "metadata": {},
   "source": [
    "We now construct a function for identifying all agents that a considered unhappy. In the figure below we use the function to plot the unhappy agents on the map. Unhappy agents of A type are shown as circles and unhappy agents of B type are shown as squares. "
   ]
  },
  {
   "cell_type": "code",
   "execution_count": 6,
   "metadata": {
    "collapsed": false
   },
   "outputs": [
    {
     "data": {
      "image/png": "[encoded data removed]",
      "text/plain": [
       "<matplotlib.figure.Figure at 0x10d749250>"
      ]
     },
     "metadata": {},
     "output_type": "display_data"
    }
   ],
   "source": [
    "def MakeMarked(Map):\n",
    "    '''Function for identifying all unhappy agents on the map.\n",
    "       It returns a list of the unhappy agents of type A and \n",
    "       one of the unhappy agents of type B\n",
    "       '''\n",
    "    WillSellA = [] # List of unhappy A type agents\n",
    "    WillSellB = [] # List of unhappy B type agents\n",
    "    Shape = Map.shape # get the shape of map\n",
    "    for i in range(Shape[0]): #Loop over first index on the map\n",
    "        for j in range(Shape[1]): #Loop over second index on the map\n",
    "            AreWeHappy = Happy((i,j),Map,Map[i,j]) # Check if the current agent is happy\n",
    "            if AreWeHappy[0] == False: # is the current agent unhappy? \n",
    "                if Map[i,j] == 0: # is the current agent of type A?\n",
    "                    WillSellA.append([(i,j),Map[i,j]]) # append it to the list of unhappy A type agents\n",
    "                if Map[i,j] == 1: # is the current agent of type B?\n",
    "                    WillSellB.append([(i,j),Map[i,j]]) # append it to the list of unhappy B type agents\n",
    "    return WillSellA,WillSellB #return the lists\n",
    "\n",
    "MarkedA, MarkedB = MakeMarked(Map) # Find the unhappy agents on the map\n",
    "\n",
    "# Code for plotting the unhappy agents\n",
    "fig,ax = pl.subplots()\n",
    "pl.imshow(Map)\n",
    "for i in MarkedA:\n",
    "    ax.plot(i[0][1],i[0][0], 'o', color = 'red')\n",
    "for i in MarkedB:\n",
    "    ax.plot(i[0][1],i[0][0], 's', color = 'red')"
   ]
  },
  {
   "cell_type": "markdown",
   "metadata": {
    "collapsed": false,
    "deletable": true,
    "editable": true
   },
   "source": [
    "Now that the unhappy agents are found, they are allowed to trade places. This happens in the `Trade` function. The function picks a random unhappy agent of the A type, and switches place with an agent of the B type, also chosen at random."
   ]
  },
  {
   "cell_type": "code",
   "execution_count": 7,
   "metadata": {
    "collapsed": true
   },
   "outputs": [],
   "source": [
    "def Trade(MarkedA,MarkedB):\n",
    "    '''Function for switching place of a random unhappy\n",
    "       agent of type A, with a random unhappy agent of type B\n",
    "       \n",
    "    '''\n",
    "    np.random.shuffle(MarkedA) # Shuffle list of unhappy A agents\n",
    "    np.random.shuffle(MarkedB) # Shuffle list of unhappy B agents\n",
    "    L = MarkedA[0] # Pick first agent in (shuffled) list of unhappy A type agents \n",
    "    M = MarkedB[0] # Pick first agent in (shuffled) list of unhappy B type agents \n",
    "    Map[L[0][0],L[0][1]] = M[1] # Switch place \n",
    "    Map[M[0][0],M[0][1]] = L[1] # Switch place "
   ]
  },
  {
   "cell_type": "markdown",
   "metadata": {},
   "source": [
    "## A Small Test Run\n",
    "Using the functions above, we can now create a map with agents and let them trade places. Below the initial map is shown as well as after 500 turns of switching places. Here it is clearly seen that the B type agents aggregate."
   ]
  },
  {
   "cell_type": "code",
   "execution_count": 8,
   "metadata": {
    "collapsed": false
   },
   "outputs": [
    {
     "data": {
      "image/png": "[encoded data removed]",
      "text/plain": [
       "<matplotlib.figure.Figure at 0x10dca09d0>"
      ]
     },
     "metadata": {},
     "output_type": "display_data"
    },
    {
     "data": {
      "image/png": "[encoded data removed]",
      "text/plain": [
       "<matplotlib.figure.Figure at 0x10d65ee50>"
      ]
     },
     "metadata": {},
     "output_type": "display_data"
    }
   ],
   "source": [
    "from matplotlib.animation import FuncAnimation\n",
    "\n",
    "    \n",
    "    \n",
    "\n",
    "Map = InitMap(Number=10, Shape=(10,10)) # Initialize map and place agents\n",
    "MarkedA, MarkedB = MakeMarked(Map) # Find unhappy agents\n",
    "\n",
    "#code for plotting\n",
    "fig,ax = pl.subplots()\n",
    "ax.set_title('Initial Map')\n",
    "\n",
    "pl.imshow(Map)\n",
    "for i in MarkedA:\n",
    "    ax.plot(i[0][1],i[0][0], 'o', color = 'red')\n",
    "for i in MarkedB:\n",
    "    ax.plot(i[0][1],i[0][0], 's', color = 'red')\n",
    "\n",
    "# Loop for tradinf\n",
    "for i in range(500):\n",
    "    Trade(MarkedA,MarkedB) # Switch place of two agents\n",
    "    MarkedA, MarkedB = MakeMarked(Map) # make new lists of unhappy agents\n",
    "\n",
    "# Code for plotting    \n",
    "fig,ax = pl.subplots()\n",
    "pl.imshow(Map)\n",
    "ax.set_title('Map After 500 Trades')\n",
    "for i in MarkedA:\n",
    "    ax.plot(i[0][1],i[0][0], 'o', color = 'red')\n",
    "for i in MarkedB:\n",
    "    ax.plot(i[0][1],i[0][0], 's', color = 'red')"
   ]
  },
  {
   "cell_type": "markdown",
   "metadata": {
    "collapsed": true,
    "deletable": true,
    "editable": true
   },
   "source": [
    "## A Larger Test Run\n",
    "\n",
    "We now try a larger map with 10000 agents and 10% B type agents. Below we show the initial map, the map after 1000 moves and after 2000 moves. here we clearly see how the agents start to segregate as we allow them to switch places. An animation of a similar run has been saved here https://www.dropbox.com/s/og8p0z2r1ei9xkl/LargeRun.mp4?dl=0 "
   ]
  },
  {
   "cell_type": "code",
   "execution_count": 9,
   "metadata": {
    "collapsed": false,
    "deletable": true,
    "editable": true
   },
   "outputs": [
    {
     "data": {
      "text/plain": [
       "<matplotlib.text.Text at 0x10d6ef790>"
      ]
     },
     "execution_count": 9,
     "metadata": {},
     "output_type": "execute_result"
    },
    {
     "data": {
      "image/png": "[encoded data removed]",
      "text/plain": [
       "<matplotlib.figure.Figure at 0x10de51350>"
      ]
     },
     "metadata": {},
     "output_type": "display_data"
    },
    {
     "data": {
      "image/png": "[encoded data removed]",
      "text/plain": [
       "<matplotlib.figure.Figure at 0x10b90b190>"
      ]
     },
     "metadata": {},
     "output_type": "display_data"
    },
    {
     "data": {
      "image/png": "[encoded data removed]",
      "text/plain": [
       "<matplotlib.figure.Figure at 0x10de5b190>"
      ]
     },
     "metadata": {},
     "output_type": "display_data"
    }
   ],
   "source": [
    "## Note this section might take some time to run\n",
    "Map = InitMap(Number=1000, Shape=(100,100)) #Initialize map\n",
    "\n",
    "#Code for plotting\n",
    "fig,ax = pl.subplots()\n",
    "ax.set_title('Initial Map')\n",
    "pl.imshow(Map)\n",
    "\n",
    "LenMarkedA = [] # List for storing number unhappy A type agents\n",
    "LenMarkedB = [] # List for storing number unhappy B type agents \n",
    "for i in range(1000): # Make 1000 moves \n",
    "    MarkedA, MarkedB = MakeMarked(Map) # make lists of unhappy A and B type agents\n",
    "    LenMarkedA.append(len(MarkedA)) # get number of unhappy A type agents\n",
    "    LenMarkedB.append(len(MarkedB)) # get number of unhappy B type agents\n",
    "    if len(MarkedA) > 0: # Check that that there are A type agents that want to switch place \n",
    "        if len(MarkedB) > 0: # Check that that there are B type agents that want to switch place \n",
    "            Trade(MarkedA,MarkedB) # Make switch\n",
    "            \n",
    "\n",
    "# Code for plotting\n",
    "fig,ax = pl.subplots()\n",
    "pl.imshow(Map)\n",
    "ax.set_title('Map After 1000 Trades')\n",
    "\n",
    "for i in range(1000): # Make 1000 moves \n",
    "    MarkedA, MarkedB = MakeMarked(Map) # make lists of unhappy A and B type agents\n",
    "    LenMarkedA.append(len(MarkedA)) # get number of unhappy A type agents\n",
    "    LenMarkedB.append(len(MarkedB)) # get number of unhappy B type agents\n",
    "    if len(MarkedA) > 0: # Check that that there are A type agents that want to switch place \n",
    "        if len(MarkedB) > 0: # Check that that there are B type agents that want to switch place \n",
    "            Trade(MarkedA,MarkedB) # Make switch\n",
    "            \n",
    "\n",
    "# Code for plotting\n",
    "fig,ax = pl.subplots()\n",
    "pl.imshow(Map)\n",
    "ax.set_title('Map After 2000 Trades')"
   ]
  },
  {
   "cell_type": "markdown",
   "metadata": {},
   "source": [
    "Below we plot the number of unhappy agents as we allow them to move around. Here we can observe how the total number of unhappy agents drop as the agents segregate."
   ]
  },
  {
   "cell_type": "code",
   "execution_count": 10,
   "metadata": {
    "collapsed": false
   },
   "outputs": [
    {
     "data": {
      "text/plain": [
       "<matplotlib.legend.Legend at 0x10dd172d0>"
      ]
     },
     "execution_count": 10,
     "metadata": {},
     "output_type": "execute_result"
    },
    {
     "data": {
      "image/png": "[encoded data removed]",
      "text/plain": [
       "<matplotlib.figure.Figure at 0x10d9f5310>"
      ]
     },
     "metadata": {},
     "output_type": "display_data"
    }
   ],
   "source": [
    "fig,ax  = pl.subplots()\n",
    "ax.plot(LenMarkedA, label = 'Unhappy A agents')\n",
    "ax.plot(LenMarkedB, label = 'Unhappy B agents')\n",
    "ax.set_xlabel('No. Moves')\n",
    "ax.legend()"
   ]
  },
  {
   "cell_type": "markdown",
   "metadata": {
    "collapsed": true,
    "deletable": true,
    "editable": true
   },
   "source": [
    "## Conclusions\n",
    "\n",
    "We have assumed that the two types of agents prefer to live next to agents of the same type. If we accept this assumption and we allow the agents to trade place, we can use the ABM to show that this leads to segregation of the two types of agents over time. Here we have chosen to consider an agent unhappy if it has less than 6 agents of the same type as neighbours. This is chosen for demonstration purpose. If it is less there will be very few unhappy A type agents to trade places which may freeze the current model, and if it is larger there will be to many unhappy agents and it will be very improbable that an agent moves to a place that is happy. All this depends on the ratio of the agents and the size of the map. \n",
    "\n",
    "An important question to ask ourselves is; Is this model realistic? That really depends on what we want to model. If this was the development of a housing marked, the fact that one unhappy agent can only trade with a random unhappy agent of the other kind, it is highly unrealistic. Normally, when you are in the marked for a new house, you are not assigned a one at random.\n",
    "However, the model describes the segregation resulting of the assumption that the agents prefer to be next to agents of the same kind.    "
   ]
  },
  {
   "cell_type": "markdown",
   "metadata": {},
   "source": [
    "## Apendix\n",
    "\n",
    "Animation of a large run. below is the code for generating the animation linked above."
   ]
  },
  {
   "cell_type": "code",
   "execution_count": null,
   "metadata": {
    "collapsed": false,
    "deletable": true,
    "editable": true
   },
   "outputs": [],
   "source": [
    "# This may take a long time to run\n",
    "def Update(num,Map,img):\n",
    "    MarkedA, MarkedB = MakeMarked(Map) # make new lists of unhappy agents\n",
    "    Trade(MarkedA,MarkedB) # Switch place of two agents\n",
    "    img.set_array(Map)\n",
    "    return img,\n",
    "    \n",
    "fig = pl.figure()\n",
    "Map = InitMap(Number=300, Shape=(100,100)) # Initialize map and place agents\n",
    "img = pl.imshow(Map, animated = True)\n",
    "ani = FuncAnimation(fig, Update, fargs=(Map, img), frames = 2000,\n",
    "                                   interval=10, blit=True)\n",
    "ani.save('LargeRun.mp4',dpi=144)\n"
   ]
  },
  {
   "cell_type": "markdown",
   "metadata": {},
   "source": [
    "Link and embed\n",
    "https://www.dropbox.com/s/og8p0z2r1ei9xkl/LargeRun.mp4?dl=0\n",
    "\n",
    "<video controls src=\"https://www.dropbox.com/s/og8p0z2r1ei9xkl/LargeRun.mp4?dl=1\" />\n"
   ]
  },
  {
   "cell_type": "code",
   "execution_count": null,
   "metadata": {
    "collapsed": true
   },
   "outputs": [],
   "source": []
  }
 ],
 "metadata": {
  "kernelspec": {
   "display_name": "Python 2",
   "language": "python",
   "name": "python2"
  },
  "language_info": {
   "codemirror_mode": {
    "name": "ipython",
    "version": 2
   },
   "file_extension": ".py",
   "mimetype": "text/x-python",
   "name": "python",
   "nbconvert_exporter": "python",
   "pygments_lexer": "ipython2",
   "version": "2.7.13"
  }
 },
 "nbformat": 4,
 "nbformat_minor": 2
}
